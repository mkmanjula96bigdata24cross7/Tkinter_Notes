{
 "cells": [
  {
   "cell_type": "code",
   "execution_count": 12,
   "metadata": {},
   "outputs": [],
   "source": [
    "#import the packages\n",
    "import tkinter as tk"
   ]
  },
  {
   "cell_type": "code",
   "execution_count": 16,
   "metadata": {},
   "outputs": [],
   "source": [
    "class todo(tk.Tk):\n",
    "    #initialization\n",
    "    def __init__(self,tasks=None):\n",
    "        super().__init__()\n",
    "        \n",
    "        if not tasks:\n",
    "            self.tasks=[]\n",
    "        else:\n",
    "            self.tasks=tasks\n",
    "            \n",
    "        self.title(\"Notes\")\n",
    "        self.geometry(\"300x400\")\n",
    "        \n",
    "        todo1=tk.Label(self, text=\"Add items here\",bg=\"Light grey\", fg=\"black\",pady=10)\n",
    "        self.tasks.append(todo1)\n",
    "        \n",
    "        for task in self.tasks:\n",
    "            task.pack(side=tk.TOP, fill=tk.X)\n",
    "        #create text box to enter text\n",
    "        self.task_create=tk.Text(self,height=3,bg=\"white\",fg=\"black\")\n",
    "        \n",
    "        self.task_create.pack(side=tk.BOTTOM, fill=tk.X)\n",
    "        self.task_create.focus_set()\n",
    "        \n",
    "        self.bind(\"<Return>\",self.add_task)\n",
    "        \n",
    "        self.colour_schemes=[{\"bg\":\"lightgrey\",\"fg\":\"black\"},{\"bg\":\"grey\",\"fg\":\"white\"}]\n",
    "        \n",
    "    def add_task(self,event=None):\n",
    "        task_text=self.task_create.get(1.0,tk.END).strip()\n",
    "            \n",
    "        if(len(task_text))>0:\n",
    "            new_task=tk.Label(self,text=task_text,pady=10)\n",
    "                \n",
    "            _,task_style_choice=divmod(len(self.tasks),2)\n",
    "                \n",
    "            my_scheme_choice=self.colour_schemes[task_style_choice]\n",
    "                \n",
    "            new_task.configure(bg=my_scheme_choice[\"bg\"])\n",
    "            new_task.configure(fg=my_scheme_choice[\"fg\"])\n",
    "                \n",
    "            new_task.pack(side=tk.TOP,fill=tk.X)\n",
    "                \n",
    "            self.tasks.append(new_task)\n",
    "        #self.task_create.delete(1.0,tk.END)\n",
    "if __name__==\"__main__\":\n",
    "    tod=todo()\n",
    "    tod.mainloop()"
   ]
  },
  {
   "cell_type": "code",
   "execution_count": null,
   "metadata": {},
   "outputs": [],
   "source": []
  }
 ],
 "metadata": {
  "kernelspec": {
   "display_name": "Python 3",
   "language": "python",
   "name": "python3"
  },
  "language_info": {
   "codemirror_mode": {
    "name": "ipython",
    "version": 3
   },
   "file_extension": ".py",
   "mimetype": "text/x-python",
   "name": "python",
   "nbconvert_exporter": "python",
   "pygments_lexer": "ipython3",
   "version": "3.6.7"
  }
 },
 "nbformat": 4,
 "nbformat_minor": 2
}
